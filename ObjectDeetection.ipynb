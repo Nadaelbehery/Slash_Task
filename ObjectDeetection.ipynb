{
 "cells": [
  {
   "cell_type": "code",
   "execution_count": 2,
   "id": "ec81a586",
   "metadata": {},
   "outputs": [],
   "source": [
    "from ultralytics import YOLO\n"
   ]
  },
  {
   "cell_type": "code",
   "execution_count": 3,
   "id": "442fc2f3",
   "metadata": {},
   "outputs": [
    {
     "name": "stdout",
     "output_type": "stream",
     "text": [
      "Downloading https://github.com/ultralytics/assets/releases/download/v8.2.0/yolov8m.pt to 'yolov8m.pt'...\n"
     ]
    },
    {
     "name": "stderr",
     "output_type": "stream",
     "text": [
      "100%|█████████████████████████████████████████████████████████████████████████████| 49.7M/49.7M [00:17<00:00, 2.91MB/s]\n"
     ]
    }
   ],
   "source": [
    "model = YOLO(\"yolov8m.pt\")\n"
   ]
  },
  {
   "cell_type": "code",
   "execution_count": 4,
   "id": "39f46c39",
   "metadata": {},
   "outputs": [
    {
     "name": "stdout",
     "output_type": "stream",
     "text": [
      "\n",
      "image 1/1 C:\\Users\\LENOVO\\Desktop\\slash\\cat_dog.jpg: 448x640 1 cat, 1 dog, 2855.8ms\n",
      "Speed: 15.0ms preprocess, 2855.8ms inference, 6.1ms postprocess per image at shape (1, 3, 448, 640)\n"
     ]
    }
   ],
   "source": [
    "results = model.predict(\"cat_dog.jpg\")\n"
   ]
  },
  {
   "cell_type": "code",
   "execution_count": 5,
   "id": "8b57abc6",
   "metadata": {},
   "outputs": [],
   "source": [
    "result = results[0]\n"
   ]
  },
  {
   "cell_type": "code",
   "execution_count": 6,
   "id": "4c87f07c",
   "metadata": {},
   "outputs": [
    {
     "data": {
      "text/plain": [
       "2"
      ]
     },
     "execution_count": 6,
     "metadata": {},
     "output_type": "execute_result"
    }
   ],
   "source": [
    "len(result.boxes)\n"
   ]
  },
  {
   "cell_type": "code",
   "execution_count": 7,
   "id": "e4d8d817",
   "metadata": {},
   "outputs": [],
   "source": [
    "box = result.boxes[0]\n"
   ]
  },
  {
   "cell_type": "code",
   "execution_count": 8,
   "id": "3d45d53d",
   "metadata": {},
   "outputs": [
    {
     "name": "stdout",
     "output_type": "stream",
     "text": [
      "Object type: tensor([16.])\n",
      "Coordinates: tensor([[261.0996,  94.0881, 460.9550, 313.6855]])\n",
      "Probability: tensor([0.9450])\n"
     ]
    }
   ],
   "source": [
    "print(\"Object type:\", box.cls)\n",
    "print(\"Coordinates:\", box.xyxy)\n",
    "print(\"Probability:\", box.conf)"
   ]
  },
  {
   "cell_type": "code",
   "execution_count": 9,
   "id": "db455196",
   "metadata": {},
   "outputs": [
    {
     "name": "stdout",
     "output_type": "stream",
     "text": [
      "Object type: tensor(16.)\n",
      "Coordinates: tensor([261.0996,  94.0881, 460.9550, 313.6855])\n",
      "Probability: tensor(0.9450)\n"
     ]
    }
   ],
   "source": [
    "print(\"Object type:\",box.cls[0])\n",
    "print(\"Coordinates:\",box.xyxy[0])\n",
    "print(\"Probability:\",box.conf[0])"
   ]
  },
  {
   "cell_type": "code",
   "execution_count": 12,
   "id": "6ac53854",
   "metadata": {},
   "outputs": [
    {
     "name": "stdout",
     "output_type": "stream",
     "text": [
      "Object type: 16.0\n",
      "Coordinates: [261.099609375, 94.0881118774414, 460.95501708984375, 313.685546875]\n",
      "Probability: 0.9449875354766846\n"
     ]
    }
   ],
   "source": [
    "cords = box.xyxy[0].tolist()\n",
    "class_id = box.cls[0].item()\n",
    "conf = box.conf[0].item()\n",
    "print(\"Object type:\", class_id)\n",
    "print(\"Coordinates:\", cords)\n",
    "print(\"Probability:\", conf)"
   ]
  },
  {
   "cell_type": "code",
   "execution_count": 13,
   "id": "168e48b3",
   "metadata": {},
   "outputs": [
    {
     "name": "stdout",
     "output_type": "stream",
     "text": [
      "{0: 'person', 1: 'bicycle', 2: 'car', 3: 'motorcycle', 4: 'airplane', 5: 'bus', 6: 'train', 7: 'truck', 8: 'boat', 9: 'traffic light', 10: 'fire hydrant', 11: 'stop sign', 12: 'parking meter', 13: 'bench', 14: 'bird', 15: 'cat', 16: 'dog', 17: 'horse', 18: 'sheep', 19: 'cow', 20: 'elephant', 21: 'bear', 22: 'zebra', 23: 'giraffe', 24: 'backpack', 25: 'umbrella', 26: 'handbag', 27: 'tie', 28: 'suitcase', 29: 'frisbee', 30: 'skis', 31: 'snowboard', 32: 'sports ball', 33: 'kite', 34: 'baseball bat', 35: 'baseball glove', 36: 'skateboard', 37: 'surfboard', 38: 'tennis racket', 39: 'bottle', 40: 'wine glass', 41: 'cup', 42: 'fork', 43: 'knife', 44: 'spoon', 45: 'bowl', 46: 'banana', 47: 'apple', 48: 'sandwich', 49: 'orange', 50: 'broccoli', 51: 'carrot', 52: 'hot dog', 53: 'pizza', 54: 'donut', 55: 'cake', 56: 'chair', 57: 'couch', 58: 'potted plant', 59: 'bed', 60: 'dining table', 61: 'toilet', 62: 'tv', 63: 'laptop', 64: 'mouse', 65: 'remote', 66: 'keyboard', 67: 'cell phone', 68: 'microwave', 69: 'oven', 70: 'toaster', 71: 'sink', 72: 'refrigerator', 73: 'book', 74: 'clock', 75: 'vase', 76: 'scissors', 77: 'teddy bear', 78: 'hair drier', 79: 'toothbrush'}\n"
     ]
    }
   ],
   "source": [
    "print(result.names)\n"
   ]
  },
  {
   "cell_type": "code",
   "execution_count": 14,
   "id": "fbb3e3f8",
   "metadata": {},
   "outputs": [
    {
     "name": "stdout",
     "output_type": "stream",
     "text": [
      "Object type: dog\n",
      "Coordinates: [261, 94, 461, 314]\n",
      "Probability: 0.94\n"
     ]
    }
   ],
   "source": [
    "cords = box.xyxy[0].tolist()\n",
    "cords = [round(x) for x in cords]\n",
    "class_id = result.names[box.cls[0].item()]\n",
    "conf = round(box.conf[0].item(), 2)\n",
    "print(\"Object type:\", class_id)\n",
    "print(\"Coordinates:\", cords)\n",
    "print(\"Probability:\", conf)"
   ]
  },
  {
   "cell_type": "code",
   "execution_count": 15,
   "id": "9da8552e",
   "metadata": {},
   "outputs": [
    {
     "name": "stdout",
     "output_type": "stream",
     "text": [
      "Object type: dog\n",
      "Coordinates: [261, 94, 461, 314]\n",
      "Probability: 0.94\n",
      "---\n",
      "Object type: cat\n",
      "Coordinates: [140, 170, 256, 315]\n",
      "Probability: 0.91\n",
      "---\n"
     ]
    }
   ],
   "source": [
    "for box in result.boxes:\n",
    "  class_id = result.names[box.cls[0].item()]\n",
    "  cords = box.xyxy[0].tolist()\n",
    "  cords = [round(x) for x in cords]\n",
    "  conf = round(box.conf[0].item(), 2)\n",
    "  print(\"Object type:\", class_id)\n",
    "  print(\"Coordinates:\", cords)\n",
    "  print(\"Probability:\", conf)\n",
    "  print(\"---\")"
   ]
  },
  {
   "cell_type": "code",
   "execution_count": null,
   "id": "12c3916c",
   "metadata": {},
   "outputs": [],
   "source": []
  }
 ],
 "metadata": {
  "kernelspec": {
   "display_name": "Python 3 (ipykernel)",
   "language": "python",
   "name": "python3"
  },
  "language_info": {
   "codemirror_mode": {
    "name": "ipython",
    "version": 3
   },
   "file_extension": ".py",
   "mimetype": "text/x-python",
   "name": "python",
   "nbconvert_exporter": "python",
   "pygments_lexer": "ipython3",
   "version": "3.11.9"
  }
 },
 "nbformat": 4,
 "nbformat_minor": 5
}
